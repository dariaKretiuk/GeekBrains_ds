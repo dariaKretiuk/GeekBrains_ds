{
 "cells": [
  {
   "cell_type": "markdown",
   "metadata": {},
   "source": [
    "## Задание 1\n",
    "\n",
    "Импортируйте библиотеку **Numpy** и дайте ей псевдоним np."
   ]
  },
  {
   "cell_type": "code",
   "execution_count": 1,
   "metadata": {},
   "outputs": [],
   "source": [
    "import numpy as np"
   ]
  },
  {
   "cell_type": "markdown",
   "metadata": {},
   "source": [
    "Создайте массив Numpy под названием **a** размером **5x2**, то есть состоящий из **5** строк и **2** столбцов. Первый столбец должен содержать числа **1, 2, 3, 3, 1**, а второй - числа **6, 8, 11, 10, 7**. Будем считать, что каждый столбец - это признак, а строка - наблюдение. "
   ]
  },
  {
   "cell_type": "code",
   "execution_count": 15,
   "metadata": {},
   "outputs": [
    {
     "data": {
      "text/plain": [
       "array([[ 1,  6],\n",
       "       [ 2,  8],\n",
       "       [ 3, 11],\n",
       "       [ 3, 10],\n",
       "       [ 1,  7]])"
      ]
     },
     "execution_count": 15,
     "metadata": {},
     "output_type": "execute_result"
    }
   ],
   "source": [
    "a = np.array([[1, 2, 3, 3, 1], [6, 8, 11, 10, 7]]).transpose()\n",
    "a"
   ]
  },
  {
   "cell_type": "markdown",
   "metadata": {},
   "source": [
    "Затем найдите среднее значение по каждому признаку, используя метод **mean** массива **Numpy**. Результат запишите в массив **mean_a**, в нем должно быть **2** элемента."
   ]
  },
  {
   "cell_type": "code",
   "execution_count": 19,
   "metadata": {},
   "outputs": [
    {
     "data": {
      "text/plain": [
       "array([[2. , 8.4]])"
      ]
     },
     "execution_count": 19,
     "metadata": {},
     "output_type": "execute_result"
    }
   ],
   "source": [
    "mean_a = np.mean(a, axis=0).reshape(1,2)\n",
    "mean_a"
   ]
  },
  {
   "cell_type": "markdown",
   "metadata": {},
   "source": [
    "## Задание 2\n",
    "Вычислите массив **a_centered**, отняв от значений массива **“а”** средние значения соответствующих признаков, содержащиеся в массиве **mean_a**. Вычисление должно производиться в одно действие. Получившийся массив должен иметь размер **5x2**."
   ]
  },
  {
   "cell_type": "code",
   "execution_count": 20,
   "metadata": {},
   "outputs": [
    {
     "data": {
      "text/plain": [
       "array([[-1. , -2.4],\n",
       "       [ 0. , -0.4],\n",
       "       [ 1. ,  2.6],\n",
       "       [ 1. ,  1.6],\n",
       "       [-1. , -1.4]])"
      ]
     },
     "execution_count": 20,
     "metadata": {},
     "output_type": "execute_result"
    }
   ],
   "source": [
    "a_centered = a - mean_a\n",
    "a_centered"
   ]
  },
  {
   "cell_type": "markdown",
   "metadata": {},
   "source": [
    "## Задание 3\n",
    "\n",
    "Найдите скалярное произведение столбцов массива **a_centered**. В результате должна получиться величина **a_centered_sp**. Затем поделите **a_centered_sp** на **N-1**, где **N** - число наблюдений."
   ]
  },
  {
   "cell_type": "code",
   "execution_count": 29,
   "metadata": {},
   "outputs": [
    {
     "data": {
      "text/plain": [
       "2.0"
      ]
     },
     "execution_count": 29,
     "metadata": {},
     "output_type": "execute_result"
    }
   ],
   "source": [
    "a_centered_sp = (a_centered[:, 0] @ a_centered[:, 1]) / 4\n",
    "a_centered_sp"
   ]
  },
  {
   "cell_type": "markdown",
   "metadata": {},
   "source": [
    "## Задание 4**\n",
    "\n",
    "Число, которое мы получили в конце задания 3 является ковариацией двух признаков, содержащихся в массиве **“а”**. В задании 4 мы делили сумму произведений центрированных признаков на **N-1**, а не на **N**, поэтому полученная нами величина является несмещенной оценкой ковариации.\n",
    "\n",
    "В этом задании проверьте получившееся число, вычислив ковариацию еще одним способом - с помощью функции **np.cov**. В качестве аргумента **m** функция **np.cov** должна принимать транспонированный массив **“a”**. В получившейся ковариационной матрице (массив Numpy размером 2x2) искомое значение ковариации будет равно элементу в строке с индексом **0** и столбце с индексом **1**."
   ]
  },
  {
   "cell_type": "code",
   "execution_count": 25,
   "metadata": {},
   "outputs": [
    {
     "data": {
      "text/plain": [
       "array([[1. , 2. ],\n",
       "       [2. , 4.3]])"
      ]
     },
     "execution_count": 25,
     "metadata": {},
     "output_type": "execute_result"
    }
   ],
   "source": [
    "a_centered_sp_theor = np.cov(a.transpose())\n",
    "a_centered_sp_theor"
   ]
  },
  {
   "cell_type": "markdown",
   "metadata": {},
   "source": [
    "## Задание 5**\n",
    "\n",
    "Создайте одномерный массив **z** случайных целых чисел из равномерного распределения от **-50** до **50** включительно размерности **8**. Найдите индексы положительных объектов."
   ]
  },
  {
   "cell_type": "code",
   "execution_count": 38,
   "metadata": {},
   "outputs": [
    {
     "data": {
      "text/plain": [
       "array([0, 6, 7])"
      ]
     },
     "execution_count": 38,
     "metadata": {},
     "output_type": "execute_result"
    }
   ],
   "source": [
    "z = np.random.uniform(-50, 50, (1,8))\n",
    "np.where(z >= 0)[1]"
   ]
  },
  {
   "cell_type": "markdown",
   "metadata": {},
   "source": [
    "## Задание 6**\n",
    "\n",
    "Создайте двумерный массив **X** случайных равномерно распределенных целых чисел от **0** до **255** включительно размерности **10** на **5**."
   ]
  },
  {
   "cell_type": "code",
   "execution_count": 39,
   "metadata": {
    "collapsed": true
   },
   "outputs": [
    {
     "data": {
      "text/plain": [
       "array([[132.63346833, 225.27427287, 231.944764  , 113.6055138 ,\n",
       "        155.29689056],\n",
       "       [183.69845435,  77.223009  , 115.49999324, 157.208616  ,\n",
       "        180.58215938],\n",
       "       [171.67670974, 193.61789709, 199.77153004,  96.03439679,\n",
       "        193.31138213],\n",
       "       [ 12.31515714,  82.91937651, 244.28314047, 175.27996552,\n",
       "        213.5758591 ],\n",
       "       [182.19079587, 157.73106231,  18.52838032, 145.79623738,\n",
       "        179.64682334],\n",
       "       [ 40.10960139,  77.33805508, 105.37077051,  92.47091316,\n",
       "         49.76964061],\n",
       "       [252.74227789,  74.42244073, 250.70930669, 205.24605964,\n",
       "         21.14922652],\n",
       "       [112.02299482, 114.06810642, 166.25142686, 133.16455135,\n",
       "        211.74265666],\n",
       "       [ 90.41025793,  67.25573622,  55.08964648, 121.31772403,\n",
       "        168.76797651],\n",
       "       [131.48608802, 133.86031927,  99.02332385, 127.4429392 ,\n",
       "         80.99645653]])"
      ]
     },
     "execution_count": 39,
     "metadata": {},
     "output_type": "execute_result"
    }
   ],
   "source": [
    "X = np.random.uniform(0, 255, (10, 5))\n",
    "X"
   ]
  },
  {
   "cell_type": "markdown",
   "metadata": {},
   "source": [
    "Найдите среднее значение и стандартное отклонение по каждому признаку."
   ]
  },
  {
   "cell_type": "code",
   "execution_count": 41,
   "metadata": {},
   "outputs": [
    {
     "data": {
      "text/plain": [
       "(array([130.92858055, 120.37102755, 148.64722825, 136.75669169,\n",
       "        145.48390714]),\n",
       " array([67.99343018, 52.94900941, 77.80940536, 33.41908802, 65.67389342]))"
      ]
     },
     "execution_count": 41,
     "metadata": {},
     "output_type": "execute_result"
    }
   ],
   "source": [
    "mean_X, std_X = X.mean(axis=0), X.std(axis=0)\n",
    "mean_X, std_X"
   ]
  },
  {
   "cell_type": "markdown",
   "metadata": {},
   "source": [
    "Вычислите массив **X_standard**, отняв от каждого признака среднее и поделив на стандартное отклонение.\n",
    "Убедитесь, что теперь среднее в каждом признаке стало равное нулю, а стандартное отклонение равно единице.\n",
    "Это называется стандартизация данных - важный процесс подготовки данных. Более подробно можно почитать здесь "
   ]
  },
  {
   "cell_type": "code",
   "execution_count": 43,
   "metadata": {},
   "outputs": [
    {
     "data": {
      "text/plain": [
       "array([[ 0.0250743 ,  1.98121261,  1.07053299, -0.69275313,  0.14941985],\n",
       "       [ 0.77610254, -0.81489756, -0.4260055 ,  0.61198332,  0.53443234],\n",
       "       [ 0.59929509,  1.38334731,  0.65704527, -1.218534  ,  0.72825704],\n",
       "       [-1.74448359, -0.70731542,  1.22910478,  1.15273265,  1.03681917],\n",
       "       [ 0.75392895,  0.70558515, -1.6722766 ,  0.2704905 ,  0.52019021],\n",
       "       [-1.33570227, -0.81272479, -0.55618543, -1.32516418, -1.45741727],\n",
       "       [ 1.79155099, -0.86778936,  1.31169334,  2.04940865, -1.89321318],\n",
       "       [-0.27805018, -0.11903756,  0.2262477 , -0.10748768,  1.00890546],\n",
       "       [-0.59591526, -1.00314042, -1.20239425, -0.46198052,  0.35454072],\n",
       "       [ 0.00819943,  0.25476004, -0.63776229, -0.27869559, -0.98193433]])"
      ]
     },
     "execution_count": 43,
     "metadata": {},
     "output_type": "execute_result"
    }
   ],
   "source": [
    "X_standard = (X - mean_X) / std_X\n",
    "X_standard"
   ]
  },
  {
   "cell_type": "code",
   "execution_count": 44,
   "metadata": {},
   "outputs": [
    {
     "data": {
      "text/plain": [
       "(array([-1.96717642e-16, -3.33066907e-16,  1.55431223e-16,  5.44009282e-16,\n",
       "        -2.22044605e-17]),\n",
       " array([1., 1., 1., 1., 1.]))"
      ]
     },
     "execution_count": 44,
     "metadata": {},
     "output_type": "execute_result"
    }
   ],
   "source": [
    "X_standard.mean(axis=0), X_standard.std(axis=0)"
   ]
  },
  {
   "cell_type": "markdown",
   "metadata": {},
   "source": [
    "## Задание 7**\n",
    "\n",
    "Создайте два одномерных массива размерности **512** с любыми значениями. Будем считать, что каждый массив - это наблюдение с **512** признаками. "
   ]
  },
  {
   "cell_type": "code",
   "execution_count": 45,
   "metadata": {},
   "outputs": [],
   "source": [
    "a = np.random.randint(0, 100, (1, 512))\n",
    "b = np.random.randint(0, 100, (1, 512))"
   ]
  },
  {
   "cell_type": "markdown",
   "metadata": {},
   "source": [
    "Найдите разницу между двумя массивами. Далее возведите разницу в квадрат, просуммируйте все элементы нового массива и возьмите корень квадратный.\n",
    "\n",
    "Это получилась **L2-норма** (Евклидова метрика) — функция расстояния, благодаря которой можно считать насколько далеки точки друг от друга, насколько они похожи друг на друга. \n",
    "\n",
    "Посчитайте **L2** норму для этих двух массивов с помощью **numpy.linalg**."
   ]
  },
  {
   "cell_type": "code",
   "execution_count": 47,
   "metadata": {},
   "outputs": [
    {
     "data": {
      "text/plain": [
       "947.4249310631424"
      ]
     },
     "execution_count": 47,
     "metadata": {},
     "output_type": "execute_result"
    }
   ],
   "source": [
    "l2 = np.sqrt(np.sum(np.power(a-b,2)))\n",
    "l2"
   ]
  },
  {
   "cell_type": "code",
   "execution_count": 50,
   "metadata": {},
   "outputs": [
    {
     "data": {
      "text/plain": [
       "array([947.42493106])"
      ]
     },
     "execution_count": 50,
     "metadata": {},
     "output_type": "execute_result"
    }
   ],
   "source": [
    "l2_theory = np.linalg.norm(a - b, axis=1)\n",
    "l2_theory"
   ]
  },
  {
   "cell_type": "markdown",
   "metadata": {},
   "source": [
    "## Задание 8**\n",
    "\n",
    "Используйте ранее созданный массив X. Найдите минимальное значение и максимальное по каждому признаку."
   ]
  },
  {
   "cell_type": "code",
   "execution_count": 51,
   "metadata": {},
   "outputs": [
    {
     "data": {
      "text/plain": [
       "(12.31515714456057, 252.74227788850106)"
      ]
     },
     "execution_count": 51,
     "metadata": {},
     "output_type": "execute_result"
    }
   ],
   "source": [
    "min_X, max_X = X.min(), X.max()\n",
    "min_X, max_X"
   ]
  },
  {
   "cell_type": "markdown",
   "metadata": {},
   "source": [
    "Вычислите массив X_norm, отняв от каждого признака минимальное и поделив на разницу максимального и минимального.\n",
    "Убедитесь, что теперь минимальное значение стало равно 0, а максимальное - 1.\n",
    "Это называется нормализация данных - еще один из важных процессов подготовки данных."
   ]
  },
  {
   "cell_type": "code",
   "execution_count": 55,
   "metadata": {},
   "outputs": [
    {
     "data": {
      "text/plain": [
       "(0.0, 1.0)"
      ]
     },
     "execution_count": 55,
     "metadata": {},
     "output_type": "execute_result"
    }
   ],
   "source": [
    "X_norm = (X - min_X) / (max_X - min_X)\n",
    "X_norm.min(), X_norm.max()"
   ]
  }
 ],
 "metadata": {
  "kernelspec": {
   "display_name": "Python 3",
   "language": "python",
   "name": "python3"
  },
  "language_info": {
   "codemirror_mode": {
    "name": "ipython",
    "version": 3
   },
   "file_extension": ".py",
   "mimetype": "text/x-python",
   "name": "python",
   "nbconvert_exporter": "python",
   "pygments_lexer": "ipython3",
   "version": "3.8.5"
  }
 },
 "nbformat": 4,
 "nbformat_minor": 4
}
